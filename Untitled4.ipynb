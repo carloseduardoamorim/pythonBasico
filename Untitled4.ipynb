{
 "cells": [
  {
   "cell_type": "code",
   "execution_count": 1,
   "id": "99c0069e",
   "metadata": {},
   "outputs": [],
   "source": [
    "x = 50\n",
    "y = 2"
   ]
  },
  {
   "cell_type": "code",
   "execution_count": 2,
   "id": "d772b450",
   "metadata": {},
   "outputs": [
    {
     "name": "stdout",
     "output_type": "stream",
     "text": [
      "52\n",
      "48\n",
      "100\n",
      "25.0\n"
     ]
    }
   ],
   "source": [
    "print(x + y)\n",
    "print(x - y)\n",
    "print(x * y)\n",
    "print(x / y)"
   ]
  },
  {
   "cell_type": "code",
   "execution_count": 3,
   "id": "95241469",
   "metadata": {},
   "outputs": [
    {
     "name": "stdout",
     "output_type": "stream",
     "text": [
      "2500\n"
     ]
    }
   ],
   "source": [
    "print(x ** y)"
   ]
  },
  {
   "cell_type": "code",
   "execution_count": 4,
   "id": "e38e64b8",
   "metadata": {},
   "outputs": [
    {
     "name": "stdout",
     "output_type": "stream",
     "text": [
      "25\n"
     ]
    }
   ],
   "source": [
    "print(x // y)"
   ]
  },
  {
   "cell_type": "code",
   "execution_count": 5,
   "id": "3a1f1e9a",
   "metadata": {},
   "outputs": [],
   "source": [
    "tem_cafe = True\n",
    "tem_pao = False"
   ]
  },
  {
   "cell_type": "code",
   "execution_count": 6,
   "id": "fb28935f",
   "metadata": {},
   "outputs": [
    {
     "name": "stdout",
     "output_type": "stream",
     "text": [
      "False\n",
      "True\n",
      "False\n"
     ]
    }
   ],
   "source": [
    "print(not tem_cafe)\n",
    "print(tem_cafe or tem_pao)\n",
    "print(tem_cafe and tem_pao)"
   ]
  },
  {
   "cell_type": "code",
   "execution_count": 7,
   "id": "0ed96729",
   "metadata": {},
   "outputs": [],
   "source": [
    "dolar = 5.4\n",
    "real = 1"
   ]
  },
  {
   "cell_type": "code",
   "execution_count": 8,
   "id": "9d66871c",
   "metadata": {},
   "outputs": [
    {
     "name": "stdout",
     "output_type": "stream",
     "text": [
      "True\n",
      "False\n",
      "False\n",
      "True\n",
      "False\n",
      "True\n"
     ]
    }
   ],
   "source": [
    "print(dolar > real)\n",
    "print(dolar < real)\n",
    "print(dolar == real)\n",
    "print(dolar >= real)\n",
    "print(dolar <= real)\n",
    "print(dolar != real)"
   ]
  },
  {
   "cell_type": "code",
   "execution_count": 9,
   "id": "cf3cb9be",
   "metadata": {},
   "outputs": [
    {
     "name": "stdout",
     "output_type": "stream",
     "text": [
      "Digite seu primeiro nome: carlos\n"
     ]
    }
   ],
   "source": [
    "nome = input(\"Digite seu primeiro nome: \")"
   ]
  },
  {
   "cell_type": "code",
   "execution_count": 12,
   "id": "09a820e6",
   "metadata": {},
   "outputs": [],
   "source": [
    "nome += \" Schmitt\""
   ]
  },
  {
   "cell_type": "code",
   "execution_count": 13,
   "id": "b1956e08",
   "metadata": {},
   "outputs": [
    {
     "name": "stdout",
     "output_type": "stream",
     "text": [
      "carlosSchmitt Schmitt\n"
     ]
    }
   ],
   "source": [
    "print(nome)"
   ]
  },
  {
   "cell_type": "code",
   "execution_count": 15,
   "id": "9c9507cb",
   "metadata": {},
   "outputs": [
    {
     "name": "stdout",
     "output_type": "stream",
     "text": [
      "Informe a sua idade: 20\n",
      "A sua idade é: 20 <class 'str'>\n"
     ]
    }
   ],
   "source": [
    "idade = input(\"Informe a sua idade: \")\n",
    "print(\"A sua idade é: \" + idade, type(idade))"
   ]
  },
  {
   "cell_type": "code",
   "execution_count": 16,
   "id": "d3c8c737",
   "metadata": {},
   "outputs": [
    {
     "name": "stdout",
     "output_type": "stream",
     "text": [
      "20\n"
     ]
    }
   ],
   "source": [
    "idade = int(idade)\n",
    "print(idade)"
   ]
  },
  {
   "cell_type": "code",
   "execution_count": 17,
   "id": "4cb83e4b",
   "metadata": {},
   "outputs": [
    {
     "name": "stdout",
     "output_type": "stream",
     "text": [
      "<class 'int'>\n"
     ]
    }
   ],
   "source": [
    "print(type(idade))"
   ]
  },
  {
   "cell_type": "code",
   "execution_count": 20,
   "id": "37943fba",
   "metadata": {},
   "outputs": [
    {
     "name": "stdout",
     "output_type": "stream",
     "text": [
      "Digite o valor do seu salario mensal: 5000\n",
      "Digite o valor do seu gasto mensal em média: 2000\n",
      "O montante que você pode economizar ao fim do ano é de:  36000.0\n"
     ]
    }
   ],
   "source": [
    "salario_mensal = input(\"Digite o valor do seu salario mensal: \")\n",
    "salario_mensal = float(salario_mensal)\n",
    "\n",
    "gasto_mensal = input(\"Digite o valor do seu gasto mensal em média: \")\n",
    "gasto_mensal = float(gasto_mensal)\n",
    "\n",
    "salario_total = salario_mensal * 12\n",
    "gasto_total = gasto_mensal * 12\n",
    "\n",
    "montante_economizado = salario_total - gasto_total\n",
    "print(\"O montante que você pode economizar ao fim do ano é de: \", montante_economizado)"
   ]
  },
  {
   "cell_type": "code",
   "execution_count": 21,
   "id": "d9ce5014",
   "metadata": {},
   "outputs": [
    {
     "name": "stdout",
     "output_type": "stream",
     "text": [
      "Digite seu nome: carlos\n",
      "Digite o seu peso: 80\n",
      "Digite seu idade: 20\n",
      "O seu nome é:  carlos , você pesa:  80.0  e tem  20  anos\n"
     ]
    }
   ],
   "source": [
    "nome = input('Digite seu nome: ')\n",
    "peso = float(input('Digite o seu peso: '))\n",
    "idade = int(input('Digite seu idade: '))\n",
    "print('O seu nome é: ', nome, ', você pesa: ', peso, ' e tem ',idade, ' anos')"
   ]
  },
  {
   "cell_type": "code",
   "execution_count": 23,
   "id": "0ceed1b8",
   "metadata": {},
   "outputs": [
    {
     "name": "stdout",
     "output_type": "stream",
     "text": [
      "Qual é o valor da corrida: 35\n",
      "Vá de ônibus\n"
     ]
    }
   ],
   "source": [
    "valor_passagem = 4.30\n",
    "\n",
    "valor_corrida = input('Qual é o valor da corrida: ')\n",
    "\n",
    "if float(valor_corrida) <= valor_passagem * 5:\n",
    "    print('Pegue a corrida')\n",
    "if float(valor_corrida) > valor_passagem * 5:\n",
    "    print(\"Vá de ônibus\")"
   ]
  },
  {
   "cell_type": "code",
   "execution_count": 25,
   "id": "8ae0bf36",
   "metadata": {},
   "outputs": [
    {
     "name": "stdout",
     "output_type": "stream",
     "text": [
      "Qual é o valor da corrida: 17\n",
      "Pegue a corrida\n"
     ]
    }
   ],
   "source": [
    "valor_passagem = 4.30\n",
    "\n",
    "valor_corrida = input('Qual é o valor da corrida: ')\n",
    "\n",
    "if float(valor_corrida) <= valor_passagem * 5:\n",
    "    print('Pegue a corrida')\n",
    "else:\n",
    "    print(\"Vá de ônibus\")"
   ]
  },
  {
   "cell_type": "code",
   "execution_count": 31,
   "id": "f2616215",
   "metadata": {},
   "outputs": [
    {
     "name": "stdout",
     "output_type": "stream",
     "text": [
      "Qual é o valor da corrida: 35\n",
      "Vá de ônibus\n"
     ]
    }
   ],
   "source": [
    "valor_passagem = 4.30\n",
    "\n",
    "valor_corrida = input('Qual é o valor da corrida: ')\n",
    "\n",
    "if float(valor_corrida) <= valor_passagem * 5:\n",
    "    print('Pegue a corrida')\n",
    "elif float(valor_corrida) <= valor_passagem * 6:\n",
    "    print(\"Aguarde um momente o valor pode abaixar\")\n",
    "else:\n",
    "    print(\"Vá de ônibus\")"
   ]
  },
  {
   "cell_type": "code",
   "execution_count": null,
   "id": "4ad88652",
   "metadata": {},
   "outputs": [],
   "source": [
    "qtd = int(input(\"Quantas atividades de python você já fez?\"))\n",
    "\n",
    "if qtd > 30:\n",
    "    print(\"Você está ficando bom nisso hein!\")\n",
    "elif qtd > 20:\n",
    "    print('Tá indo bem, bora fazer mais alguns!')\n",
    "elif qtd > 10:\n",
    "    "
   ]
  }
 ],
 "metadata": {
  "kernelspec": {
   "display_name": "Python 3 (ipykernel)",
   "language": "python",
   "name": "python3"
  },
  "language_info": {
   "codemirror_mode": {
    "name": "ipython",
    "version": 3
   },
   "file_extension": ".py",
   "mimetype": "text/x-python",
   "name": "python",
   "nbconvert_exporter": "python",
   "pygments_lexer": "ipython3",
   "version": "3.9.6"
  }
 },
 "nbformat": 4,
 "nbformat_minor": 5
}
