{
 "cells": [
  {
   "cell_type": "code",
   "execution_count": 1,
   "id": "4c3fb64a",
   "metadata": {},
   "outputs": [
    {
     "name": "stdout",
     "output_type": "stream",
     "text": [
      "Digite seu salario1000\n",
      "O salario que você digitou foi:  1000.0\n"
     ]
    }
   ],
   "source": [
    "salario = float(input(\"Digite seu salario\"))\n",
    "\n",
    "while salario < 998.0:\n",
    "    salario = float(input(\"Digite um salario maior que 998.0\"))\n",
    "else: \n",
    "    print(\"O salario que você digitou foi: \", salario)"
   ]
  },
  {
   "cell_type": "code",
   "execution_count": 3,
   "id": "b141a1c0",
   "metadata": {},
   "outputs": [
    {
     "name": "stdout",
     "output_type": "stream",
     "text": [
      "Digite um numero10\n",
      "0\n",
      "1\n",
      "2\n",
      "3\n",
      "4\n",
      "5\n",
      "6\n",
      "7\n",
      "8\n",
      "9\n"
     ]
    }
   ],
   "source": [
    "contador = 0\n",
    "\n",
    "numero = int(input(\"Digite um numero: \"))\n",
    "\n",
    "while contador < numero:\n",
    "    print(contador)\n",
    "    contador = contador + 1"
   ]
  },
  {
   "cell_type": "code",
   "execution_count": 4,
   "id": "b44639b7",
   "metadata": {},
   "outputs": [
    {
     "name": "stdout",
     "output_type": "stream",
     "text": [
      "Digite OK: lo\n",
      "Digite OK: ok\n",
      "Digite OK: OK\n"
     ]
    }
   ],
   "source": [
    "while True:\n",
    "    resposta = input(\"Digite OK: \")\n",
    "    if resposta == 'OK':\n",
    "        break"
   ]
  },
  {
   "cell_type": "code",
   "execution_count": 5,
   "id": "2d27044f",
   "metadata": {},
   "outputs": [
    {
     "name": "stdout",
     "output_type": "stream",
     "text": [
      "['Brasil', 'Argentina', 'China', 'Canadá', 'Japão']\n"
     ]
    }
   ],
   "source": [
    "nomes_paises = ['Brasil', 'Argentina', 'China', 'Canadá', 'Japão']\n",
    "\n",
    "print(nomes_paises)\n"
   ]
  },
  {
   "cell_type": "code",
   "execution_count": 6,
   "id": "93744c53",
   "metadata": {},
   "outputs": [
    {
     "name": "stdout",
     "output_type": "stream",
     "text": [
      "Tamanho da lista:  5\n"
     ]
    }
   ],
   "source": [
    "print(\"Tamanho da lista: \", len(nomes_paises))"
   ]
  },
  {
   "cell_type": "code",
   "execution_count": 7,
   "id": "78068418",
   "metadata": {},
   "outputs": [
    {
     "name": "stdout",
     "output_type": "stream",
     "text": [
      "País Japão\n"
     ]
    }
   ],
   "source": [
    "print(\"País:\", nomes_paises[4])"
   ]
  },
  {
   "cell_type": "code",
   "execution_count": 8,
   "id": "caa45d6d",
   "metadata": {},
   "outputs": [
    {
     "name": "stdout",
     "output_type": "stream",
     "text": [
      "País:  Japão\n"
     ]
    }
   ],
   "source": [
    "print(\"País: \", nomes_paises[-1])"
   ]
  },
  {
   "cell_type": "code",
   "execution_count": 9,
   "id": "01819fb1",
   "metadata": {},
   "outputs": [
    {
     "name": "stdout",
     "output_type": "stream",
     "text": [
      "País: Colômbia\n",
      "['Brasil', 'Argentina', 'China', 'Canadá', 'Colômbia']\n"
     ]
    }
   ],
   "source": [
    "nomes_paises[4] = 'Colômbia'\n",
    "print(\"País:\", nomes_paises[4])\n",
    "print(nomes_paises)"
   ]
  },
  {
   "cell_type": "code",
   "execution_count": 10,
   "id": "f2e5a08b",
   "metadata": {},
   "outputs": [
    {
     "ename": "IndexError",
     "evalue": "list assignment index out of range",
     "output_type": "error",
     "traceback": [
      "\u001b[1;31m---------------------------------------------------------------------------\u001b[0m",
      "\u001b[1;31mIndexError\u001b[0m                                Traceback (most recent call last)",
      "\u001b[1;32m~\\AppData\\Local\\Temp/ipykernel_6692/259509551.py\u001b[0m in \u001b[0;36m<module>\u001b[1;34m\u001b[0m\n\u001b[1;32m----> 1\u001b[1;33m \u001b[0mnomes_paises\u001b[0m\u001b[1;33m[\u001b[0m\u001b[1;36m5\u001b[0m\u001b[1;33m]\u001b[0m \u001b[1;33m=\u001b[0m \u001b[1;34m'Chile'\u001b[0m\u001b[1;33m\u001b[0m\u001b[1;33m\u001b[0m\u001b[0m\n\u001b[0m",
      "\u001b[1;31mIndexError\u001b[0m: list assignment index out of range"
     ]
    }
   ],
   "source": [
    "nomes_paises[5] = 'Chile'"
   ]
  },
  {
   "cell_type": "code",
   "execution_count": 11,
   "id": "0cc70afd",
   "metadata": {},
   "outputs": [
    {
     "name": "stdout",
     "output_type": "stream",
     "text": [
      "['Argentina', 'China']\n"
     ]
    }
   ],
   "source": [
    "print(nomes_paises[1:3])"
   ]
  },
  {
   "cell_type": "code",
   "execution_count": 12,
   "id": "b8c21e72",
   "metadata": {},
   "outputs": [
    {
     "name": "stdout",
     "output_type": "stream",
     "text": [
      "['Argentina', 'China', 'Canadá']\n"
     ]
    }
   ],
   "source": [
    "print(nomes_paises[1:-1])"
   ]
  },
  {
   "cell_type": "code",
   "execution_count": 13,
   "id": "a2d68dd2",
   "metadata": {},
   "outputs": [
    {
     "name": "stdout",
     "output_type": "stream",
     "text": [
      "['Canadá', 'Colômbia']\n"
     ]
    }
   ],
   "source": [
    "print(nomes_paises[3:])"
   ]
  },
  {
   "cell_type": "code",
   "execution_count": 14,
   "id": "258dded4",
   "metadata": {},
   "outputs": [
    {
     "name": "stdout",
     "output_type": "stream",
     "text": [
      "['Brasil', 'Argentina', 'China', 'Canadá']\n"
     ]
    }
   ],
   "source": [
    "print(nomes_paises[:4])"
   ]
  },
  {
   "cell_type": "code",
   "execution_count": 15,
   "id": "28c8e10e",
   "metadata": {},
   "outputs": [
    {
     "name": "stdout",
     "output_type": "stream",
     "text": [
      "['Brasil', 'Argentina', 'China', 'Canadá', 'Colômbia']\n"
     ]
    }
   ],
   "source": [
    "print(nomes_paises[:])"
   ]
  },
  {
   "cell_type": "code",
   "execution_count": 16,
   "id": "9cd15d43",
   "metadata": {},
   "outputs": [
    {
     "name": "stdout",
     "output_type": "stream",
     "text": [
      "True\n"
     ]
    }
   ],
   "source": [
    "print(\"Brasil\" in nomes_paises)"
   ]
  },
  {
   "cell_type": "code",
   "execution_count": 17,
   "id": "16dbf6f5",
   "metadata": {},
   "outputs": [
    {
     "name": "stdout",
     "output_type": "stream",
     "text": [
      "False\n"
     ]
    }
   ],
   "source": [
    "print(\"Canadá\" not in nomes_paises)"
   ]
  },
  {
   "cell_type": "code",
   "execution_count": 18,
   "id": "907c880b",
   "metadata": {},
   "outputs": [],
   "source": [
    "lista_capitais = []"
   ]
  },
  {
   "cell_type": "code",
   "execution_count": 20,
   "id": "0134707d",
   "metadata": {},
   "outputs": [],
   "source": [
    "lista_capitais.append('Brasília')\n",
    "lista_capitais.append('Palmas')\n",
    "lista_capitais.append('Aracajú')\n",
    "lista_capitais.append('São Paulo')"
   ]
  },
  {
   "cell_type": "code",
   "execution_count": 21,
   "id": "21836a11",
   "metadata": {},
   "outputs": [
    {
     "name": "stdout",
     "output_type": "stream",
     "text": [
      "['Brasília', 'Palmas', 'Brasília', 'Brasília', 'Brasília', 'Palmas', 'Aracajú', 'São Paulo']\n"
     ]
    }
   ],
   "source": [
    "print(lista_capitais)"
   ]
  },
  {
   "cell_type": "code",
   "execution_count": 22,
   "id": "41c9872d",
   "metadata": {},
   "outputs": [],
   "source": [
    "lista_capitais.insert(1, 'Paris')"
   ]
  },
  {
   "cell_type": "code",
   "execution_count": 23,
   "id": "d51f7366",
   "metadata": {},
   "outputs": [
    {
     "name": "stdout",
     "output_type": "stream",
     "text": [
      "['Brasília', 'Paris', 'Palmas', 'Brasília', 'Brasília', 'Brasília', 'Palmas', 'Aracajú', 'São Paulo']\n"
     ]
    }
   ],
   "source": [
    "print(lista_capitais)"
   ]
  },
  {
   "cell_type": "code",
   "execution_count": 24,
   "id": "de1346ef",
   "metadata": {},
   "outputs": [
    {
     "name": "stdout",
     "output_type": "stream",
     "text": [
      "['Paris', 'Palmas', 'Brasília', 'Brasília', 'Brasília', 'Palmas', 'Aracajú', 'São Paulo']\n"
     ]
    }
   ],
   "source": [
    "lista_capitais.remove('Brasília')\n",
    "print(lista_capitais)"
   ]
  },
  {
   "cell_type": "code",
   "execution_count": 25,
   "id": "610f3bba",
   "metadata": {},
   "outputs": [
    {
     "name": "stdout",
     "output_type": "stream",
     "text": [
      "['Paris', 'Palmas', 'Brasília', 'Brasília', 'Palmas', 'Aracajú', 'São Paulo'] Brasília\n"
     ]
    }
   ],
   "source": [
    "removido = lista_capitais.pop(3)\n",
    "print(lista_capitais, removido)"
   ]
  },
  {
   "cell_type": "code",
   "execution_count": 26,
   "id": "ddad1603",
   "metadata": {},
   "outputs": [],
   "source": [
    "nomes_paises = ('Brasil', 'China', 'Canadá', 'Japão')"
   ]
  },
  {
   "cell_type": "code",
   "execution_count": 27,
   "id": "0745625c",
   "metadata": {},
   "outputs": [
    {
     "name": "stdout",
     "output_type": "stream",
     "text": [
      "('Brasil', 'China', 'Canadá', 'Japão')\n"
     ]
    }
   ],
   "source": [
    "print(nomes_paises)"
   ]
  },
  {
   "cell_type": "code",
   "execution_count": 28,
   "id": "b31111a0",
   "metadata": {},
   "outputs": [
    {
     "name": "stdout",
     "output_type": "stream",
     "text": [
      "('Brasil', 'China', 'Canadá', 'Japão') <class 'tuple'>\n"
     ]
    }
   ],
   "source": [
    "nomes_paises = 'Brasil', 'China', 'Canadá', 'Japão'\n",
    "print(nomes_paises, type(nomes_paises))"
   ]
  },
  {
   "cell_type": "code",
   "execution_count": 29,
   "id": "b6c3bc85",
   "metadata": {},
   "outputs": [
    {
     "name": "stdout",
     "output_type": "stream",
     "text": [
      "('São Paulo',) <class 'tuple'>\n"
     ]
    }
   ],
   "source": [
    "nome_estado = 'São Paulo',\n",
    "print(nome_estado, type(nome_estado))"
   ]
  },
  {
   "cell_type": "code",
   "execution_count": 31,
   "id": "fb8a999a",
   "metadata": {},
   "outputs": [
    {
     "data": {
      "text/plain": [
       "4"
      ]
     },
     "execution_count": 31,
     "metadata": {},
     "output_type": "execute_result"
    }
   ],
   "source": [
    "len(nomes_paises)"
   ]
  },
  {
   "cell_type": "code",
   "execution_count": 33,
   "id": "2d68197d",
   "metadata": {},
   "outputs": [
    {
     "data": {
      "text/plain": [
       "1"
      ]
     },
     "execution_count": 33,
     "metadata": {},
     "output_type": "execute_result"
    }
   ],
   "source": [
    "len(nome_estado)"
   ]
  },
  {
   "cell_type": "code",
   "execution_count": 34,
   "id": "28f50ff1",
   "metadata": {},
   "outputs": [],
   "source": [
    "a, b, c, ba = nomes_paises"
   ]
  },
  {
   "cell_type": "code",
   "execution_count": 35,
   "id": "d5547aba",
   "metadata": {},
   "outputs": [
    {
     "name": "stdout",
     "output_type": "stream",
     "text": [
      "Brasil Canadá Japão\n"
     ]
    }
   ],
   "source": [
    "print(a,c,ba)"
   ]
  },
  {
   "cell_type": "code",
   "execution_count": 36,
   "id": "004debd2",
   "metadata": {},
   "outputs": [
    {
     "name": "stdout",
     "output_type": "stream",
     "text": [
      "Brasil China Canadá Japão\n"
     ]
    }
   ],
   "source": [
    "print(*nomes_paises)"
   ]
  },
  {
   "cell_type": "code",
   "execution_count": 37,
   "id": "b2282c70",
   "metadata": {},
   "outputs": [
    {
     "name": "stdout",
     "output_type": "stream",
     "text": [
      "Brasil\n",
      "China\n",
      "Canadá\n",
      "Japão\n"
     ]
    }
   ],
   "source": [
    "i = 0\n",
    "while i < len(nomes_paises):\n",
    "    print(nomes_paises[i])\n",
    "    i+=1"
   ]
  },
  {
   "cell_type": "code",
   "execution_count": 38,
   "id": "315c3c6b",
   "metadata": {},
   "outputs": [
    {
     "name": "stdout",
     "output_type": "stream",
     "text": [
      "Deseja adicionar um animal à lista (s/n)? n\n",
      "[]\n"
     ]
    }
   ],
   "source": [
    "animais = []\n",
    "resposta = 's'\n",
    "\n",
    "while resposta == 's' or resposta == 'S':\n",
    "    resposta = input(\"Deseja adicionar um animal à lista (s/n)? \")\n",
    "    if(resposta == 's' or resposta == 'S'):\n",
    "        animal = input(\"Digite o nome do animal: \")\n",
    "        animais.append(animal)\n",
    "print(animais)"
   ]
  },
  {
   "cell_type": "code",
   "execution_count": 40,
   "id": "6cda681f",
   "metadata": {},
   "outputs": [
    {
     "name": "stdout",
     "output_type": "stream",
     "text": [
      "Deseja adicionar um animal à lista (s/n)? s\n",
      "Digite o nome do animal: cavalo\n",
      "Deseja adicionar um animal à lista (s/n)? macaco\n",
      "['cavalo']\n"
     ]
    }
   ],
   "source": [
    "animais = []\n",
    "resposta = 's'\n",
    "\n",
    "while resposta == 's' or resposta == 'S':\n",
    "    resposta = input(\"Deseja adicionar um animal à lista (s/n)? \")\n",
    "    if(resposta == 's' or resposta == 'S'):\n",
    "        animal = input(\"Digite o nome do animal: \")\n",
    "        animais.append(animal)\n",
    "print(animais)"
   ]
  },
  {
   "cell_type": "code",
   "execution_count": 41,
   "id": "37ccfba0",
   "metadata": {},
   "outputs": [
    {
     "name": "stdout",
     "output_type": "stream",
     "text": [
      "['cavalo']\n"
     ]
    }
   ],
   "source": [
    "print(animais)"
   ]
  },
  {
   "cell_type": "code",
   "execution_count": 42,
   "id": "d0b96fac",
   "metadata": {},
   "outputs": [
    {
     "name": "stdout",
     "output_type": "stream",
     "text": [
      "Carlos Eduardo disse: \"Hoje é dia hein\"\n"
     ]
    }
   ],
   "source": [
    "frase = \"Carlos Eduardo disse: \\\"Hoje é dia hein\\\"\"\n",
    "print(frase)"
   ]
  },
  {
   "cell_type": "code",
   "execution_count": 43,
   "id": "d327a7c2",
   "metadata": {},
   "outputs": [
    {
     "name": "stdout",
     "output_type": "stream",
     "text": [
      "G\n"
     ]
    }
   ],
   "source": [
    "empresa = \"Google\"\n",
    "print(empresa[0])"
   ]
  },
  {
   "cell_type": "code",
   "execution_count": 44,
   "id": "e1db4771",
   "metadata": {},
   "outputs": [
    {
     "name": "stdout",
     "output_type": "stream",
     "text": [
      "Goo\n"
     ]
    }
   ],
   "source": [
    "print(empresa[:3])"
   ]
  },
  {
   "cell_type": "code",
   "execution_count": 45,
   "id": "5a3e9fef",
   "metadata": {},
   "outputs": [],
   "source": [
    "cidades_nomes = \"Palmas, Brasília, João Pessoa, Rio de Janeiro\"\n",
    "cidades_nomes = cidades_nomes.split(', ')"
   ]
  },
  {
   "cell_type": "code",
   "execution_count": 46,
   "id": "b5d0de36",
   "metadata": {},
   "outputs": [
    {
     "name": "stdout",
     "output_type": "stream",
     "text": [
      "['Palmas', 'Brasília', 'João Pessoa', 'Rio de Janeiro']\n"
     ]
    }
   ],
   "source": [
    "print(cidades_nomes)"
   ]
  },
  {
   "cell_type": "code",
   "execution_count": 47,
   "id": "31f46406",
   "metadata": {},
   "outputs": [
    {
     "name": "stdout",
     "output_type": "stream",
     "text": [
      "Tocantins Palmas\n",
      "Tocantins palmas\n",
      "TOCANTINS PALMAS\n",
      "tocantins palmas\n"
     ]
    }
   ],
   "source": [
    "nome_cidade = 'tOcAnTiNs PaLmAs'\n",
    "\n",
    "print(nome_cidade.title())\n",
    "print(nome_cidade.capitalize())\n",
    "print(nome_cidade.upper())\n",
    "print(nome_cidade.lower())"
   ]
  },
  {
   "cell_type": "code",
   "execution_count": 49,
   "id": "ce49f9c1",
   "metadata": {},
   "outputs": [
    {
     "name": "stdout",
     "output_type": "stream",
     "text": [
      "Digite o nome da capital do calor humano: palmas\n",
      "Você acertou\n"
     ]
    }
   ],
   "source": [
    "nome_cidade = input(\"Digite o nome da capital do calor humano: \")\n",
    "nome_cidade = nome_cidade.strip()\n",
    "while nome_cidade.lower() != \"palmas\":\n",
    "    print(\"Tente novamente\")\n",
    "    nome_cidade = input(\"Digite o nome da capital do calor humano: \")\n",
    "\n",
    "print(\"Você acertou\")"
   ]
  },
  {
   "cell_type": "code",
   "execution_count": 50,
   "id": "e7266348",
   "metadata": {},
   "outputs": [
    {
     "data": {
      "text/plain": [
       "['__add__',\n",
       " '__class__',\n",
       " '__contains__',\n",
       " '__delattr__',\n",
       " '__dir__',\n",
       " '__doc__',\n",
       " '__eq__',\n",
       " '__format__',\n",
       " '__ge__',\n",
       " '__getattribute__',\n",
       " '__getitem__',\n",
       " '__getnewargs__',\n",
       " '__gt__',\n",
       " '__hash__',\n",
       " '__init__',\n",
       " '__init_subclass__',\n",
       " '__iter__',\n",
       " '__le__',\n",
       " '__len__',\n",
       " '__lt__',\n",
       " '__mod__',\n",
       " '__mul__',\n",
       " '__ne__',\n",
       " '__new__',\n",
       " '__reduce__',\n",
       " '__reduce_ex__',\n",
       " '__repr__',\n",
       " '__rmod__',\n",
       " '__rmul__',\n",
       " '__setattr__',\n",
       " '__sizeof__',\n",
       " '__str__',\n",
       " '__subclasshook__',\n",
       " 'capitalize',\n",
       " 'casefold',\n",
       " 'center',\n",
       " 'count',\n",
       " 'encode',\n",
       " 'endswith',\n",
       " 'expandtabs',\n",
       " 'find',\n",
       " 'format',\n",
       " 'format_map',\n",
       " 'index',\n",
       " 'isalnum',\n",
       " 'isalpha',\n",
       " 'isascii',\n",
       " 'isdecimal',\n",
       " 'isdigit',\n",
       " 'isidentifier',\n",
       " 'islower',\n",
       " 'isnumeric',\n",
       " 'isprintable',\n",
       " 'isspace',\n",
       " 'istitle',\n",
       " 'isupper',\n",
       " 'join',\n",
       " 'ljust',\n",
       " 'lower',\n",
       " 'lstrip',\n",
       " 'maketrans',\n",
       " 'partition',\n",
       " 'removeprefix',\n",
       " 'removesuffix',\n",
       " 'replace',\n",
       " 'rfind',\n",
       " 'rindex',\n",
       " 'rjust',\n",
       " 'rpartition',\n",
       " 'rsplit',\n",
       " 'rstrip',\n",
       " 'split',\n",
       " 'splitlines',\n",
       " 'startswith',\n",
       " 'strip',\n",
       " 'swapcase',\n",
       " 'title',\n",
       " 'translate',\n",
       " 'upper',\n",
       " 'zfill']"
      ]
     },
     "execution_count": 50,
     "metadata": {},
     "output_type": "execute_result"
    }
   ],
   "source": [
    "dir(nome_cidade)"
   ]
  },
  {
   "cell_type": "code",
   "execution_count": null,
   "id": "d2c19013",
   "metadata": {},
   "outputs": [],
   "source": []
  }
 ],
 "metadata": {
  "kernelspec": {
   "display_name": "Python 3 (ipykernel)",
   "language": "python",
   "name": "python3"
  },
  "language_info": {
   "codemirror_mode": {
    "name": "ipython",
    "version": 3
   },
   "file_extension": ".py",
   "mimetype": "text/x-python",
   "name": "python",
   "nbconvert_exporter": "python",
   "pygments_lexer": "ipython3",
   "version": "3.9.6"
  }
 },
 "nbformat": 4,
 "nbformat_minor": 5
}
