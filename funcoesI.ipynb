{
 "cells": [
  {
   "cell_type": "code",
   "execution_count": 1,
   "id": "c4fd5a54",
   "metadata": {},
   "outputs": [],
   "source": [
    "def hello():\n",
    "    print('Olá, mundo!')"
   ]
  },
  {
   "cell_type": "code",
   "execution_count": 2,
   "id": "92267a9b",
   "metadata": {},
   "outputs": [
    {
     "name": "stdout",
     "output_type": "stream",
     "text": [
      "Olá, mundo!\n"
     ]
    }
   ],
   "source": [
    "hello()"
   ]
  },
  {
   "cell_type": "code",
   "execution_count": 3,
   "id": "05cb6fe1",
   "metadata": {},
   "outputs": [],
   "source": [
    "def calcula_media(valor1, valor2, valor3):\n",
    "    media = (valor1 + valor2 + valor3) / 3\n",
    "    return media"
   ]
  },
  {
   "cell_type": "code",
   "execution_count": 5,
   "id": "da55c616",
   "metadata": {},
   "outputs": [
    {
     "name": "stdout",
     "output_type": "stream",
     "text": [
      "9.0\n"
     ]
    }
   ],
   "source": [
    "print(calcula_media(9, 10, 8))"
   ]
  },
  {
   "cell_type": "code",
   "execution_count": 6,
   "id": "675c31a8",
   "metadata": {},
   "outputs": [
    {
     "name": "stdout",
     "output_type": "stream",
     "text": [
      "9.666666666666666\n"
     ]
    }
   ],
   "source": [
    "resultado1 = calcula_media(valor1=9, valor2=10, valor3=10)\n",
    "print(resultado1)"
   ]
  },
  {
   "cell_type": "code",
   "execution_count": 8,
   "id": "554501ff",
   "metadata": {},
   "outputs": [
    {
     "name": "stdout",
     "output_type": "stream",
     "text": [
      "olá , Carlos\n"
     ]
    }
   ],
   "source": [
    "print('olá', end=' ')\n",
    "print(', Carlos')"
   ]
  },
  {
   "cell_type": "code",
   "execution_count": 9,
   "id": "27f59a4c",
   "metadata": {},
   "outputs": [],
   "source": [
    "def calcula_media(valor1 = 0, valor2 = 0, valor3 = 0):\n",
    "    media = (valor1 + valor2 + valor3) / 3\n",
    "    return media"
   ]
  },
  {
   "cell_type": "code",
   "execution_count": 10,
   "id": "a0755687",
   "metadata": {},
   "outputs": [
    {
     "name": "stdout",
     "output_type": "stream",
     "text": [
      "0.0\n"
     ]
    }
   ],
   "source": [
    "print(calcula_media())"
   ]
  },
  {
   "cell_type": "code",
   "execution_count": 11,
   "id": "ea643ab8",
   "metadata": {},
   "outputs": [
    {
     "name": "stdout",
     "output_type": "stream",
     "text": [
      "9.0\n"
     ]
    }
   ],
   "source": [
    "print(calcula_media(9, 10, 8))"
   ]
  },
  {
   "cell_type": "code",
   "execution_count": 12,
   "id": "bbfce9bc",
   "metadata": {},
   "outputs": [
    {
     "name": "stdout",
     "output_type": "stream",
     "text": [
      "15\n"
     ]
    }
   ],
   "source": [
    "def somatorio(lista):\n",
    "    soma  = 0\n",
    "    for item in lista:\n",
    "        soma = soma + item\n",
    "    return soma\n",
    "\n",
    "numeros = [1,2,3,4,5]\n",
    "print(somatorio(numeros))"
   ]
  },
  {
   "cell_type": "code",
   "execution_count": 13,
   "id": "e8fa23f4",
   "metadata": {},
   "outputs": [
    {
     "name": "stdout",
     "output_type": "stream",
     "text": [
      "Testando a função recursiva:\n",
      "1\n",
      "2\n",
      "3\n",
      "4\n",
      "5\n",
      "6\n",
      "7\n",
      "8\n",
      "9\n",
      "10\n"
     ]
    }
   ],
   "source": [
    "## Função recursiva\n",
    "\n",
    "def funcaoRecursiva(numero):\n",
    "    if numero != 1:\n",
    "        funcaoRecursiva(numero - 1)\n",
    "    print(numero)\n",
    "    \n",
    "print(\"Testando a função recursiva:\")\n",
    "funcaoRecursiva(10)"
   ]
  },
  {
   "cell_type": "code",
   "execution_count": null,
   "id": "96a84ce2",
   "metadata": {},
   "outputs": [],
   "source": []
  }
 ],
 "metadata": {
  "kernelspec": {
   "display_name": "Python 3 (ipykernel)",
   "language": "python",
   "name": "python3"
  },
  "language_info": {
   "codemirror_mode": {
    "name": "ipython",
    "version": 3
   },
   "file_extension": ".py",
   "mimetype": "text/x-python",
   "name": "python",
   "nbconvert_exporter": "python",
   "pygments_lexer": "ipython3",
   "version": "3.9.6"
  }
 },
 "nbformat": 4,
 "nbformat_minor": 5
}
